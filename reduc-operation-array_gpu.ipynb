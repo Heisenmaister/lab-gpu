{
 "cells": [
  {
   "cell_type": "markdown",
   "id": "f942d288-be01-42cd-9b84-83529c6769be",
   "metadata": {},
   "source": [
    "## Reduction operation: the sum of the numbers in the range [0, value)"
   ]
  },
  {
   "cell_type": "code",
   "execution_count": null,
   "id": "496946fa-2a28-4c1d-8a6a-2ee0b8fd8ced",
   "metadata": {},
   "outputs": [],
   "source": [
    "import cupy as cp\n",
    "import time\n",
    "import argparse\n",
    "\n",
    "def reduc_operation(A):\n",
    "    \"\"\"Compute the sum of the elements of Array A in the range [0, value) using CuPy.\"\"\"\n",
    "    s = 0\n",
    "    for i in range(A.size):\n",
    "        s += A[i]\n",
    "    return s\n",
    "\n",
    "# Función principal que acepta el valor de la línea de comandos\n",
    "def main():\n",
    "    parser = argparse.ArgumentParser(description=\"Calculate the sum of elements in a CuPy array.\")\n",
    "    parser.add_argument('value', type=int, help=\"Number of elements in the array.\")\n",
    "    args = parser.parse_args()\n",
    "\n",
    "    value = args.value\n",
    "\n",
    "    # Crear el arreglo en la GPU con cupy\n",
    "    X = cp.random.rand(value)\n",
    "\n",
    "    # Utilizando la función personalizada\n",
    "    tiempo = %timeit -r 2 -o -q reduc_operation(X)\n",
    "    print(\"Time taken by reduction operation using CuPy (function):\", tiempo)\n",
    "    print(f\"And the result of the sum of numbers in the range [0, value) is: {reduc_operation(X)}\\n\")\n",
    "\n",
    "    # Utilizando cupy.sum() para calcular la suma\n",
    "    tiempo = %timeit -r 2 -o -q cp.sum(X)\n",
    "    print(\"Time taken by reduction operation using cupy.sum():\", tiempo)\n",
    "    print(\"Now, the result using cupy.sum():\", cp.sum(X), \"\\n\")\n",
    "\n",
    "# Ejecutar la función principal si es un script independiente\n",
    "if __name__ == \"__main__\":\n",
    "    main()"
   ]
  }
 ],
 "metadata": {
  "kernelspec": {
   "display_name": "Python 3 (ipykernel)",
   "language": "python",
   "name": "python3"
  },
  "language_info": {
   "codemirror_mode": {
    "name": "ipython",
    "version": 3
   },
   "file_extension": ".py",
   "mimetype": "text/x-python",
   "name": "python",
   "nbconvert_exporter": "python",
   "pygments_lexer": "ipython3",
   "version": "3.8.17"
  }
 },
 "nbformat": 4,
 "nbformat_minor": 5
}
