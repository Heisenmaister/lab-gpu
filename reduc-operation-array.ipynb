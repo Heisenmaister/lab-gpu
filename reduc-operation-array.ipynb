{
 "cells": [
  {
   "cell_type": "markdown",
   "id": "f942d288-be01-42cd-9b84-83529c6769be",
   "metadata": {},
   "source": [
    "## Reduction operation: the sum of the numbers in the range [0, value)"
   ]
  },
  {
   "cell_type": "code",
   "execution_count": null,
   "id": "496946fa-2a28-4c1d-8a6a-2ee0b8fd8ced",
   "metadata": {},
   "outputs": [],
   "source": [
    "import numpy as np\n",
    "import argparse\n",
    "import time\n",
    "\n",
    "# Función original\n",
    "def reduc_operation(A):\n",
    "    \"\"\"Compute the sum of the elements of Array A.\"\"\"\n",
    "    s = 0\n",
    "    for i in range(A.size):\n",
    "        s += A[i]\n",
    "    return s\n",
    "\n",
    "# Configuración de argparse para recibir argumentos\n",
    "parser = argparse.ArgumentParser(description=\"Programa para calcular la suma de elementos de un array.\")\n",
    "parser.add_argument(\"--value\", type=int, default=5*10**7, \n",
    "                    help=\"Número de elementos del array (por defecto: 5*10^4)\")\n",
    "\n",
    "args = parser.parse_args()\n",
    "value = args.value\n",
    "\n",
    "# Crear el array con los valores aleatorios\n",
    "X = np.random.rand(value)\n",
    "\n",
    "print(f\"Array size: {value}\\n\")\n",
    "\n",
    "# Medir tiempo con la función reduc_operation\n",
    "start_time = time.time()\n",
    "suma_reduc = reduc_operation(X)\n",
    "end_time = time.time()\n",
    "print(f\"Tiempo con función reduc_operation: {end_time - start_time:.6f} segundos, Suma: {suma_reduc}\")\n",
    "\n",
    "# Medir tiempo con numpy.sum()\n",
    "start_time = time.time()\n",
    "suma_numpy = np.sum(X)\n",
    "end_time = time.time()\n",
    "print(f\"Tiempo con numpy.sum(): {end_time - start_time:.6f} segundos, Suma: {suma_numpy}\")\n",
    "\n",
    "# Medir tiempo con ndarray.sum()\n",
    "start_time = time.time()\n",
    "suma_ndarray = X.sum()\n",
    "end_time = time.time()\n",
    "print(f\"Tiempo con numpy.ndarray.sum(): {end_time - start_time:.6f} segundos, Suma: {suma_ndarray}\")"
   ]
  }
 ],
 "metadata": {
  "kernelspec": {
   "display_name": "Python 3 (ipykernel)",
   "language": "python",
   "name": "python3"
  },
  "language_info": {
   "codemirror_mode": {
    "name": "ipython",
    "version": 3
   },
   "file_extension": ".py",
   "mimetype": "text/x-python",
   "name": "python",
   "nbconvert_exporter": "python",
   "pygments_lexer": "ipython3",
   "version": "3.10.9"
  }
 },
 "nbformat": 4,
 "nbformat_minor": 5
}
