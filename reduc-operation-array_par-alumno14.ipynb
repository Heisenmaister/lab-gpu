{
 "cells": [
  {
   "cell_type": "markdown",
   "id": "f942d288-be01-42cd-9b84-83529c6769be",
   "metadata": {},
   "source": [
    "## Reduction operation: the sum of the numbers in the range [0, value)"
   ]
  },
  {
   "cell_type": "code",
   "execution_count": 1,
   "id": "496946fa-2a28-4c1d-8a6a-2ee0b8fd8ced",
   "metadata": {},
   "outputs": [
    {
     "name": "stdout",
     "output_type": "stream",
     "text": [
      "Time taken by reduction operation using a function: 44.7 ms ± 39.9 µs per loop (mean ± std. dev. of 2 runs, 10 loops each)\n",
      "And the result of the sum of numbers in the range [0, value) is: 24991.51788404963\n",
      "\n",
      "Time taken by reduction operation using numpy.sum(): 96.3 µs ± 1.54 µs per loop (mean ± std. dev. of 2 runs, 10,000 loops each)\n",
      "Now, the result using numpy.sum(): 24991.51788404961 \n",
      " \n",
      "Time taken by reduction operation using numpy.ndarray.sum(): 72.3 µs ± 367 ns per loop (mean ± std. dev. of 2 runs, 10,000 loops each)\n",
      "Now, the result using numpy.ndarray.sum(): 24991.51788404961\n"
     ]
    }
   ],
   "source": [
    "import numpy as np\n",
    "\n",
    "def reduc_operation(A):\n",
    "    \"\"\"Compute the sum of the elements of Array A in the range [0, value).\"\"\"\n",
    "    s = 0\n",
    "    for i in range(A.size):\n",
    "        s += A[i]\n",
    "    return s\n",
    "\n",
    "# Secuencial\n",
    "\n",
    "value = 5*10**4\n",
    "\n",
    "X = np.random.rand(value)\n",
    "\n",
    "# Para imprimir los pimeros valores del array\n",
    "\n",
    "# print(X[0:12])\n",
    "\n",
    "# Utilizando las operaciones mágicas de ipython\n",
    "\n",
    "tiempo = %timeit -r 2 -o -q reduc_operation(X)\n",
    "\n",
    "print(\"Time taken by reduction operation using a function:\", tiempo)\n",
    "\n",
    "\n",
    "print(f\"And the result of the sum of numbers in the range [0, value) is: {reduc_operation(X)}\\n\")\n",
    "\n",
    "\n",
    "# Utilizando numpy.sum()\n",
    "\n",
    "tiempo = %timeit -r 2 -o -q np.sum(X)\n",
    "\n",
    "print(\"Time taken by reduction operation using numpy.sum():\", tiempo)\n",
    "\n",
    "print(\"Now, the result using numpy.sum():\", np.sum(X),\"\\n \")\n",
    "\n",
    "\n",
    "# Utilizando numpy.ndarray.sum()\n",
    "\n",
    "tiempo= %timeit -r 2 -o -q X.sum()\n",
    "\n",
    "print(\"Time taken by reduction operation using numpy.ndarray.sum():\", tiempo)\n",
    "\n",
    "print(\"Now, the result using numpy.ndarray.sum():\", X.sum())\n",
    "\n",
    "\n"
   ]
  },
  {
   "cell_type": "markdown",
   "id": "3b5e367e-f617-4362-af19-5e8add0c84e1",
   "metadata": {},
   "source": [
    "### 3.2 (A)"
   ]
  },
  {
   "cell_type": "code",
   "execution_count": 9,
   "id": "f209b020-3c5f-463d-904c-9fe8db86df88",
   "metadata": {},
   "outputs": [
    {
     "name": "stdout",
     "output_type": "stream",
     "text": [
      "Tiempo con 1 proceso: 5.034564 segundos, Suma: 2499993.6375147984\n",
      "Tiempo con 2 procesos: 2.973715 segundos, Suma: 2499993.637514972\n",
      "Tiempo con 4 procesos: 1.649338 segundos, Suma: 2499993.637514888\n"
     ]
    }
   ],
   "source": [
    "import numpy as np\n",
    "from multiprocessing import Pool\n",
    "import time\n",
    "\n",
    "def reduc_operation(A):\n",
    "    \"\"\"Compute the sum of the elements of Array A.\"\"\"\n",
    "    s = 0\n",
    "    for i in range(A.size):\n",
    "        s += A[i]\n",
    "    return s\n",
    "\n",
    "# Generar el array original\n",
    "value = 5 * 10**6\n",
    "X = np.random.rand(value)\n",
    "\n",
    "# Función para dividir el array en partes\n",
    "def split_array(array, num_splits):\n",
    "    \"\"\"Divide el array en `num_splits` partes iguales.\"\"\"\n",
    "    split_size = len(array) // num_splits\n",
    "    return [array[i * split_size: (i + 1) * split_size] for i in range(num_splits)]\n",
    "\n",
    "# Tiempo para la reducción con un solo proceso\n",
    "start_time = time.time()\n",
    "result_single = reduc_operation(X)\n",
    "end_time = time.time()\n",
    "print(f\"Tiempo con 1 proceso: {end_time - start_time:.6f} segundos, Suma: {result_single}\")\n",
    "\n",
    "# Tiempo para la reducción con 2 procesos\n",
    "splits_2 = split_array(X, 2)\n",
    "start_time = time.time()\n",
    "with Pool(2) as pool:\n",
    "    results_2 = pool.map(reduc_operation, splits_2)\n",
    "result_two_processes = sum(results_2)\n",
    "end_time = time.time()\n",
    "print(f\"Tiempo con 2 procesos: {end_time - start_time:.6f} segundos, Suma: {result_two_processes}\")\n",
    "\n",
    "# Tiempo para la reducción con 4 procesos\n",
    "splits_4 = split_array(X, 4)\n",
    "start_time = time.time()\n",
    "with Pool(4) as pool:\n",
    "    results_4 = pool.map(reduc_operation, splits_4)\n",
    "result_four_processes = sum(results_4)\n",
    "end_time = time.time()\n",
    "print(f\"Tiempo con 4 procesos: {end_time - start_time:.6f} segundos, Suma: {result_four_processes}\")"
   ]
  },
  {
   "cell_type": "markdown",
   "id": "d905547d-8ea1-4896-b678-8282ad214d5c",
   "metadata": {},
   "source": [
    "- Nota: Cuando el value es el que viene por defecto (5 * 10**4) apenas hay diferencias significativas en el tiempo\n",
    "  cuando se utilizan más CPUs. Sin embargo, conforme se aumenta el valor de este de manera exponencial (10**5, 10**6, etx) la diferencia se hace mucho    más significatia y apreciable. "
   ]
  },
  {
   "cell_type": "markdown",
   "id": "91d27d57-2d8f-4440-a14b-3f0f56288572",
   "metadata": {},
   "source": [
    "### 3.2 (B)"
   ]
  },
  {
   "cell_type": "code",
   "execution_count": 13,
   "id": "e5df3efb-a88d-4a8e-87cd-3710da256f18",
   "metadata": {},
   "outputs": [
    {
     "name": "stdout",
     "output_type": "stream",
     "text": [
      "Array size: 50000000\n",
      "\n",
      "Tiempo con función original: 52.847927 segundos, Suma: 25001489.472300984\n",
      "Tiempo con Numba sin paralelismo: 0.709224 segundos, Suma: 25001489.472300984\n",
      "Tiempo con Numba con paralelismo: 1.892220 segundos, Suma: 25001489.47229185\n"
     ]
    }
   ],
   "source": [
    "import numpy as np\n",
    "from numba import njit, prange\n",
    "import time\n",
    "\n",
    "# Función original sin optimización\n",
    "def reduc_operation(A):\n",
    "    \"\"\"Compute the sum of the elements of Array A.\"\"\"\n",
    "    s = 0\n",
    "    for i in range(A.size):\n",
    "        s += A[i]\n",
    "    return s\n",
    "\n",
    "# Versión optimizada con Numba (sin paralelismo)\n",
    "@njit\n",
    "def reduc_operation_numba(A):\n",
    "    s = 0\n",
    "    for i in range(A.size):\n",
    "        s += A[i]\n",
    "    return s\n",
    "\n",
    "# Versión optimizada con Numba y paralelismo\n",
    "@njit(parallel=True)\n",
    "def reduc_operation_numba_parallel(A):\n",
    "    s = 0\n",
    "    for i in prange(A.size):\n",
    "        s += A[i]\n",
    "    return s\n",
    "\n",
    "# Tamaño del array\n",
    "value = 5*10**7\n",
    "X = np.random.rand(value)\n",
    "\n",
    "# Medir tiempos\n",
    "def measure_time(func, array, label):\n",
    "    start_time = time.time()\n",
    "    result = func(array)\n",
    "    end_time = time.time()\n",
    "    print(f\"Tiempo con {label}: {end_time - start_time:.6f} segundos, Suma: {result}\")\n",
    "\n",
    "print(f\"Array size: {value}\\n\")\n",
    "\n",
    "# Tiempo con función original\n",
    "measure_time(reduc_operation, X, \"función original\")\n",
    "\n",
    "# Tiempo con Numba (sin paralelismo)\n",
    "measure_time(reduc_operation_numba, X, \"Numba sin paralelismo\")\n",
    "\n",
    "# Tiempo con Numba (paralelismo)\n",
    "measure_time(reduc_operation_numba_parallel, X, \"Numba con paralelismo\")"
   ]
  },
  {
   "cell_type": "markdown",
   "id": "a54af330-4362-4aa4-ae05-6f93101b9844",
   "metadata": {},
   "source": [
    "- Nota: Como ocurría en el apartado anterior, cuando el value es el que viene por defecto (5 * 10**4) apenas hay diferencias significativas en el tiempo\n",
    " de ejecución. Sin embargo, conforme se aumenta el valor de este de manera exponencial (10**5, 10**6, etx) la diferencia se hace mucho más significatia y apreciable. Disminuyendo de 52 segungos con la opción por defecto a 0.7 segundos usando Numba. El uso de paralelismo también disminuye muy significativament el tiempo, aunque no tanto como el no paralelismo. Posiblemente se deba a que, puesto que el script es relativamente sencillo, se tarda más en cargar los módulos y preparar el paralelismo que en su ejecución en sí misma. Si el proceso fuese más tedioso computacionalmente la diferencia sí se acentuaría más. "
   ]
  }
 ],
 "metadata": {
  "kernelspec": {
   "display_name": "Python 3 (ipykernel)",
   "language": "python",
   "name": "python3"
  },
  "language_info": {
   "codemirror_mode": {
    "name": "ipython",
    "version": 3
   },
   "file_extension": ".py",
   "mimetype": "text/x-python",
   "name": "python",
   "nbconvert_exporter": "python",
   "pygments_lexer": "ipython3",
   "version": "3.10.9"
  }
 },
 "nbformat": 4,
 "nbformat_minor": 5
}
